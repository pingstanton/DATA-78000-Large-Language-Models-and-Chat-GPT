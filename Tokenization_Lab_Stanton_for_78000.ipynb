{
  "cells": [
    {
      "cell_type": "markdown",
      "source": [
        "## **Tokenization Lab**\n",
        "LLMs and ChatGPT | Fall 2023 | McSweeney | CUNY Graduate Center\n",
        "\n",
        "**Public link to this Google Colab Notebook:\n",
        "https://colab.research.google.com/drive/1YXfrKuSNtG1HuWTiQ_-Qh87ru276Bwuu**\n",
        "\n",
        "**Matthew Stanton** | pingstanton@gmail.com | mstanton@gradcenter.cuny.edu | [Lab List on CUNY Academic Commons](https://pingstanton.commons.gc.cuny.edu/2023/09/21/labs-for-data-78000-large-language-models-and-chat-gpt/) | [Lab List on GitHub](https://github.com/pingstanton/DATA-78000-Large-Language-Models-and-Chat-GPT)"
      ],
      "metadata": {
        "id": "uUg_CXGO-k1T"
      },
      "id": "uUg_CXGO-k1T"
    },
    {
      "cell_type": "markdown",
      "id": "200cde67",
      "metadata": {
        "id": "200cde67"
      },
      "source": [
        "**Due:** October 8, 2023\n",
        "\n",
        "### Background\n",
        "The purpose of this lab is to explore different tokenization methods. On their own, tokenization methods don't do much. However, they are the starting place for all natural language processing.\n",
        "\n",
        "#### Notes\n",
        "This is a short lab using the same dataset throughout. Feel free to switch it up, but once you are comfortable with how the different alogorithms approach the task of breaking up text, move on."
      ]
    },
    {
      "cell_type": "markdown",
      "id": "bd47efac",
      "metadata": {
        "id": "bd47efac"
      },
      "source": [
        "You will be using the `datasets` package. You can [install the package](https://pypi.org/project/datasets/) with `$ pip install datasets`. If you do not have `pip` or `conda` installed on your machine, please install it now."
      ]
    },
    {
      "cell_type": "code",
      "execution_count": 1,
      "id": "5c7e72fd",
      "metadata": {
        "colab": {
          "base_uri": "https://localhost:8080/"
        },
        "id": "5c7e72fd",
        "outputId": "5572104c-db40-4b4b-d3a3-46429d81df75"
      },
      "outputs": [
        {
          "output_type": "stream",
          "name": "stdout",
          "text": [
            "Requirement already satisfied: nltk in /usr/local/lib/python3.10/dist-packages (3.8.1)\n",
            "Collecting datasets\n",
            "  Downloading datasets-2.14.5-py3-none-any.whl (519 kB)\n",
            "\u001b[2K     \u001b[90m━━━━━━━━━━━━━━━━━━━━━━━━━━━━━━━━━━━━━━━\u001b[0m \u001b[32m519.6/519.6 kB\u001b[0m \u001b[31m7.4 MB/s\u001b[0m eta \u001b[36m0:00:00\u001b[0m\n",
            "\u001b[?25hRequirement already satisfied: click in /usr/local/lib/python3.10/dist-packages (from nltk) (8.1.7)\n",
            "Requirement already satisfied: joblib in /usr/local/lib/python3.10/dist-packages (from nltk) (1.3.2)\n",
            "Requirement already satisfied: regex>=2021.8.3 in /usr/local/lib/python3.10/dist-packages (from nltk) (2023.6.3)\n",
            "Requirement already satisfied: tqdm in /usr/local/lib/python3.10/dist-packages (from nltk) (4.66.1)\n",
            "Requirement already satisfied: numpy>=1.17 in /usr/local/lib/python3.10/dist-packages (from datasets) (1.23.5)\n",
            "Requirement already satisfied: pyarrow>=8.0.0 in /usr/local/lib/python3.10/dist-packages (from datasets) (9.0.0)\n",
            "Collecting dill<0.3.8,>=0.3.0 (from datasets)\n",
            "  Downloading dill-0.3.7-py3-none-any.whl (115 kB)\n",
            "\u001b[2K     \u001b[90m━━━━━━━━━━━━━━━━━━━━━━━━━━━━━━━━━━━━━━\u001b[0m \u001b[32m115.3/115.3 kB\u001b[0m \u001b[31m10.6 MB/s\u001b[0m eta \u001b[36m0:00:00\u001b[0m\n",
            "\u001b[?25hRequirement already satisfied: pandas in /usr/local/lib/python3.10/dist-packages (from datasets) (1.5.3)\n",
            "Requirement already satisfied: requests>=2.19.0 in /usr/local/lib/python3.10/dist-packages (from datasets) (2.31.0)\n",
            "Collecting xxhash (from datasets)\n",
            "  Downloading xxhash-3.4.1-cp310-cp310-manylinux_2_17_x86_64.manylinux2014_x86_64.whl (194 kB)\n",
            "\u001b[2K     \u001b[90m━━━━━━━━━━━━━━━━━━━━━━━━━━━━━━━━━━━━━━\u001b[0m \u001b[32m194.1/194.1 kB\u001b[0m \u001b[31m20.8 MB/s\u001b[0m eta \u001b[36m0:00:00\u001b[0m\n",
            "\u001b[?25hCollecting multiprocess (from datasets)\n",
            "  Downloading multiprocess-0.70.15-py310-none-any.whl (134 kB)\n",
            "\u001b[2K     \u001b[90m━━━━━━━━━━━━━━━━━━━━━━━━━━━━━━━━━━━━━━\u001b[0m \u001b[32m134.8/134.8 kB\u001b[0m \u001b[31m14.0 MB/s\u001b[0m eta \u001b[36m0:00:00\u001b[0m\n",
            "\u001b[?25hRequirement already satisfied: fsspec[http]<2023.9.0,>=2023.1.0 in /usr/local/lib/python3.10/dist-packages (from datasets) (2023.6.0)\n",
            "Requirement already satisfied: aiohttp in /usr/local/lib/python3.10/dist-packages (from datasets) (3.8.5)\n",
            "Collecting huggingface-hub<1.0.0,>=0.14.0 (from datasets)\n",
            "  Downloading huggingface_hub-0.17.3-py3-none-any.whl (295 kB)\n",
            "\u001b[2K     \u001b[90m━━━━━━━━━━━━━━━━━━━━━━━━━━━━━━━━━━━━━━\u001b[0m \u001b[32m295.0/295.0 kB\u001b[0m \u001b[31m30.6 MB/s\u001b[0m eta \u001b[36m0:00:00\u001b[0m\n",
            "\u001b[?25hRequirement already satisfied: packaging in /usr/local/lib/python3.10/dist-packages (from datasets) (23.2)\n",
            "Requirement already satisfied: pyyaml>=5.1 in /usr/local/lib/python3.10/dist-packages (from datasets) (6.0.1)\n",
            "Requirement already satisfied: attrs>=17.3.0 in /usr/local/lib/python3.10/dist-packages (from aiohttp->datasets) (23.1.0)\n",
            "Requirement already satisfied: charset-normalizer<4.0,>=2.0 in /usr/local/lib/python3.10/dist-packages (from aiohttp->datasets) (3.3.0)\n",
            "Requirement already satisfied: multidict<7.0,>=4.5 in /usr/local/lib/python3.10/dist-packages (from aiohttp->datasets) (6.0.4)\n",
            "Requirement already satisfied: async-timeout<5.0,>=4.0.0a3 in /usr/local/lib/python3.10/dist-packages (from aiohttp->datasets) (4.0.3)\n",
            "Requirement already satisfied: yarl<2.0,>=1.0 in /usr/local/lib/python3.10/dist-packages (from aiohttp->datasets) (1.9.2)\n",
            "Requirement already satisfied: frozenlist>=1.1.1 in /usr/local/lib/python3.10/dist-packages (from aiohttp->datasets) (1.4.0)\n",
            "Requirement already satisfied: aiosignal>=1.1.2 in /usr/local/lib/python3.10/dist-packages (from aiohttp->datasets) (1.3.1)\n",
            "Requirement already satisfied: filelock in /usr/local/lib/python3.10/dist-packages (from huggingface-hub<1.0.0,>=0.14.0->datasets) (3.12.4)\n",
            "Requirement already satisfied: typing-extensions>=3.7.4.3 in /usr/local/lib/python3.10/dist-packages (from huggingface-hub<1.0.0,>=0.14.0->datasets) (4.5.0)\n",
            "Requirement already satisfied: idna<4,>=2.5 in /usr/local/lib/python3.10/dist-packages (from requests>=2.19.0->datasets) (3.4)\n",
            "Requirement already satisfied: urllib3<3,>=1.21.1 in /usr/local/lib/python3.10/dist-packages (from requests>=2.19.0->datasets) (2.0.6)\n",
            "Requirement already satisfied: certifi>=2017.4.17 in /usr/local/lib/python3.10/dist-packages (from requests>=2.19.0->datasets) (2023.7.22)\n",
            "Requirement already satisfied: python-dateutil>=2.8.1 in /usr/local/lib/python3.10/dist-packages (from pandas->datasets) (2.8.2)\n",
            "Requirement already satisfied: pytz>=2020.1 in /usr/local/lib/python3.10/dist-packages (from pandas->datasets) (2023.3.post1)\n",
            "Requirement already satisfied: six>=1.5 in /usr/local/lib/python3.10/dist-packages (from python-dateutil>=2.8.1->pandas->datasets) (1.16.0)\n",
            "Installing collected packages: xxhash, dill, multiprocess, huggingface-hub, datasets\n",
            "Successfully installed datasets-2.14.5 dill-0.3.7 huggingface-hub-0.17.3 multiprocess-0.70.15 xxhash-3.4.1\n"
          ]
        },
        {
          "output_type": "stream",
          "name": "stderr",
          "text": [
            "[nltk_data] Downloading package punkt to /root/nltk_data...\n",
            "[nltk_data]   Unzipping tokenizers/punkt.zip.\n"
          ]
        }
      ],
      "source": [
        "# Adding !pip install nltk datasets because Google Colab\n",
        "!pip install nltk datasets\n",
        "\n",
        "import nltk\n",
        "nltk.download('punkt')\n",
        "import timeit\n",
        "\n"
      ]
    },
    {
      "cell_type": "code",
      "source": [
        "from datasets import load_dataset"
      ],
      "metadata": {
        "id": "_P4MDGcK_xZO"
      },
      "id": "_P4MDGcK_xZO",
      "execution_count": 2,
      "outputs": []
    },
    {
      "cell_type": "markdown",
      "id": "420d2c62",
      "metadata": {
        "id": "420d2c62"
      },
      "source": [
        "The next cell is just downloading the dataset. You need to be connected to the internet for this to work.\n",
        "\n",
        "This dataset is hosted by [Hugging Face](https://huggingface.co). Hugging Face hosts machine learning models, datasets, and more. We will reference them again. It's a great place to find corpora.\n",
        "\n",
        "\n",
        "The dataset is called [American Stories](https://huggingface.co/datasets/dell-research-harvard/AmericanStories). Please skim the Dataset Card. All models and datasets on the Hugging Face hub have these associated cards."
      ]
    },
    {
      "cell_type": "code",
      "execution_count": 3,
      "id": "a36427c2",
      "metadata": {
        "colab": {
          "base_uri": "https://localhost:8080/",
          "height": 976,
          "referenced_widgets": [
            "1243b90984c44772a70e8e08b00b463e",
            "b9d65232f7e84997a937b0571875ed2e",
            "78ec1a3f6dc2474399e0496fd7dcd17a",
            "6f173fbe28704ed292e1534d5d8e2391",
            "4a0e28826883465d9f8fcb4c25d032a9",
            "53f9e261fe6f43e7895d7dba2b867707",
            "d5d971bc0b9b46688913830737030ee4",
            "512693a9bf424df7b84ecff3e443d06c",
            "88450f672efa43d2bb195d79f33df4d1",
            "d22b02b3a7344f3483e826ae07ec5315",
            "8002bfc3cee74e799af41a3c255a7df0",
            "c4307190383b4897b7014ad79daef2cd",
            "dce5343e88e34491b65bfa5a99efd42c",
            "fb3de02865574d7292a8f97352fd30be",
            "87da0a3e2cb14da7bee4835e3a7e8f1d",
            "619672c14a784c78a68541c07a907388",
            "d8b068bfd3e24494a7af25d02fe594b0",
            "b5ad4269e8ff44188b30fc99f445ce31",
            "61013539af9b4f5393db58b76405e49f",
            "f62046b6b8414d78bda569fd4e9391d1",
            "8dcaff4dac9f4d5496294a1c097973a8",
            "a53ca9304aff4dbe93549df4ca414f1f",
            "f21a464bdcb444518462085d2766ad4c",
            "2c5e80a7fdd043eb919e31a5631786b0",
            "029e8a69a1ba4ed89fa17cc57c2ee5d8",
            "b23836639b384de684803856d92880a9",
            "f6649593b1b44ff49f417b1e18be4e29",
            "5f4d35f858b842ccbc6d844d5cecc565",
            "cc84c07fc05f45a2b6a9c3c0c0f42273",
            "ddcf2f447a4b450888047b0dfac9d9f6",
            "4e31163018464e04b1a9e4bdc1d8ec24",
            "77985b7a7e1b44bd9b2c2a4dbc9becd8",
            "08381fb943be4212988cb1e0674faa0a",
            "d4b3ce12b6b341b3890f38cf9cc0d782",
            "89b4ad22088f477db8109e0894bf055e",
            "01c46033c9ef4f419fc721d9695a54c9",
            "4c6ffdd3910541e585b3dbcbeb8efcc7",
            "8c23987f0df64fc1be819e37ec0d7297",
            "a855df12a5854328a115a2efadd2ccf4",
            "7aefd266177d481b997f531dcb439a7b",
            "99dff9dc33364793a2bc542d16aaebc8",
            "0d07dddc466d426aa9c9a2de842a6d67",
            "f2afad68e33c408aafaccd6784b2876f",
            "a3f93f043717432eac64f11f069754de",
            "30ee7c0221c248b98fd12892eca48d40",
            "cc2f814467e6492f801f2ff99c28a3e4",
            "7621d1f6f9af48d28e52f152e0028211",
            "1a2114ceea954228a286a37df1b13da4",
            "8f42c03194d44db196fac840a72136b7",
            "1d1af729ff224f65a509f4e4ea687b40",
            "0dff37a57fdf4069b0fc2254b45812a8",
            "67be472e48274fc785238993991068cf",
            "af0a0629359e4cdb82d8a3976915e6af",
            "1c7a66ee642243f0b34de0f7e97b82dc",
            "ded1f29d13c7465c9f37fc68d3266cee"
          ]
        },
        "id": "a36427c2",
        "outputId": "e2deaf3b-3687-47ba-82f5-b88575fcbffc"
      },
      "outputs": [
        {
          "output_type": "display_data",
          "data": {
            "text/plain": [
              "Downloading builder script:   0%|          | 0.00/8.91k [00:00<?, ?B/s]"
            ],
            "application/vnd.jupyter.widget-view+json": {
              "version_major": 2,
              "version_minor": 0,
              "model_id": "1243b90984c44772a70e8e08b00b463e"
            }
          },
          "metadata": {}
        },
        {
          "output_type": "display_data",
          "data": {
            "text/plain": [
              "Downloading readme:   0%|          | 0.00/8.02k [00:00<?, ?B/s]"
            ],
            "application/vnd.jupyter.widget-view+json": {
              "version_major": 2,
              "version_minor": 0,
              "model_id": "c4307190383b4897b7014ad79daef2cd"
            }
          },
          "metadata": {}
        },
        {
          "output_type": "stream",
          "name": "stdout",
          "text": [
            "Only taking a subset of years. Change name to 'all_years' to use all years in the dataset.\n",
            "{'1960': 'https://huggingface.co/datasets/dell-research-harvard/AmericanStories/resolve/main/faro_1960.tar.gz'}\n"
          ]
        },
        {
          "output_type": "display_data",
          "data": {
            "text/plain": [
              "Downloading data files:   0%|          | 0/1 [00:00<?, ?it/s]"
            ],
            "application/vnd.jupyter.widget-view+json": {
              "version_major": 2,
              "version_minor": 0,
              "model_id": "f21a464bdcb444518462085d2766ad4c"
            }
          },
          "metadata": {}
        },
        {
          "output_type": "display_data",
          "data": {
            "text/plain": [
              "Downloading data:   0%|          | 0.00/256M [00:00<?, ?B/s]"
            ],
            "application/vnd.jupyter.widget-view+json": {
              "version_major": 2,
              "version_minor": 0,
              "model_id": "d4b3ce12b6b341b3890f38cf9cc0d782"
            }
          },
          "metadata": {}
        },
        {
          "output_type": "display_data",
          "data": {
            "text/plain": [
              "Generating 1960 split: 0 examples [00:00, ? examples/s]"
            ],
            "application/vnd.jupyter.widget-view+json": {
              "version_major": 2,
              "version_minor": 0,
              "model_id": "30ee7c0221c248b98fd12892eca48d40"
            }
          },
          "metadata": {}
        },
        {
          "output_type": "stream",
          "name": "stdout",
          "text": [
            "Loading associated\n",
            "SAN FRANCISCO. Nov. 10\n",
            "(AP).-Alvin Dark made his\n",
            "first decisions yesterday as\n",
            "manager Of the San Francisco\n",
            "Giants. He hired two former\n",
            "teammates as coaches.\n",
            "\n",
            "\n",
            "Dark was signed last week,\n",
            "Yesterday he selected Larry\n",
            "Jansen and Whitley Lockman\n",
            "and retained Yves Westrum and\n",
            "Salty Parker for his coaching\n",
            "staff. Bill Posedel was re-\n",
            "leased to make way for Jansen\n",
            "as boss Of the bullpen.\n",
            "\n",
            "\n",
            "Dark. Jansen and Lockman-\n",
            "stars when they played for the\n",
            "Giants have a lot in common\n",
            "They have regulations al\n",
            "gentlemen, quiet craftsmen whc\n",
            "let their feats on the field speal\n",
            "for them.\n",
            "\n",
            "\n",
            "Dark hit 1922 in his rookie\n",
            "season with the Boston Brave.\n",
            "and was named rookie of thu\n",
            "year l948 by the major league\n",
            "baseball writer's.\n",
            "\n",
            "\n",
            "AS lean. smiling youngstel\n",
            "of 18, Lockman stepped intC\n",
            "Mel Otis No. 3 batting spot IL\n",
            "midsummer Of 1945 anchead last Saturday when Mon\n",
            "treal lost in q cup playoff with\n",
            "out throwing a pass In the last\n",
            "half. Moss said it was because\n",
            "of Etcheverry's sore arm. The\n",
            "player said his arm was SOUND\n"
          ]
        }
      ],
      "source": [
        "# Decide what year you want between 1810 and 1963\n",
        "\n",
        "my_year = \"1960\"\n",
        "\n",
        "# Decide how many articles you want to work with (keep this small - it's slow)\n",
        "num_articles = 10\n",
        "\n",
        "#  Download data for your choice of year (1810 to 1963)\n",
        "dataset = load_dataset(\"dell-research-harvard/AmericanStories\",\n",
        "    \"subset_years\",\n",
        "    year_list=[my_year]\n",
        ")\n",
        "\n",
        "# Get the first n articles from that year\n",
        "# instantiate the counter\n",
        "i=0\n",
        "# instantiate the string\n",
        "my_articles = ''\n",
        "# loop through each article for that year\n",
        "for article in dataset[my_year]:\n",
        "    #the article is a dictionary,\n",
        "    #we're getting the text of the article by accessing the key, \"article\"\n",
        "    my_articles += article.get('article')\n",
        "    #add one to our counter\n",
        "    i+=1\n",
        "    #if the counter is greater than num_articles-1, stop looping\n",
        "    if i>(num_articles-1): break\n",
        "\n",
        "#validate that it is what we expect by checking on first 100 characters\n",
        "print(my_articles[:1000])\n"
      ]
    },
    {
      "cell_type": "markdown",
      "id": "935d221a",
      "metadata": {
        "id": "935d221a"
      },
      "source": [
        "This section is for formatting. It removes almost all the markup in these articles. It's a fairly standard set of character encodings."
      ]
    },
    {
      "cell_type": "code",
      "execution_count": 5,
      "id": "2de5a622",
      "metadata": {
        "colab": {
          "base_uri": "https://localhost:8080/",
          "height": 140
        },
        "id": "2de5a622",
        "outputId": "c2c42150-d393-4d4d-a825-e4c0b35194ab"
      },
      "outputs": [
        {
          "output_type": "execute_result",
          "data": {
            "text/plain": [
              "\"SAN FRANCISCO. Nov. 10 (AP).-Alvin Dark made his first decisions yesterday as manager Of the San Francisco Giants. He hired two former teammates as coaches.   Dark was signed last week, Yesterday he selected Larry Jansen and Whitley Lockman and retained Yves Westrum and Salty Parker for his coaching staff. Bill Posedel was re- leased to make way for Jansen as boss Of the bullpen.   Dark. Jansen and Lockman- stars when they played for the Giants have a lot in common They have regulations al gentlemen, quiet craftsmen whc let their feats on the field speal for them.   Dark hit 1922 in his rookie season with the Boston Brave. and was named rookie of thu year l948 by the major league baseball writer's.   AS lean. smiling youngstel of 18, Lockman stepped intC Mel Otis No. 3 batting spot IL midsummer Of 1945 anchead last Saturday when Mon treal lost in q cup playoff with out throwing a pass In the last half. Moss said it was because of Etcheverry's sore arm. The player said his arm was SOUND\""
            ],
            "application/vnd.google.colaboratory.intrinsic+json": {
              "type": "string"
            }
          },
          "metadata": {},
          "execution_count": 5
        }
      ],
      "source": [
        "#remove new line and other formatting characters\n",
        "for char in [\"\\n\", \"\\r\", \"\\d\", \"\\t\"]:\n",
        "    my_articles = my_articles.replace(char, \" \")\n",
        "my_articles[:1000]"
      ]
    },
    {
      "cell_type": "markdown",
      "id": "7e522efd",
      "metadata": {
        "id": "7e522efd"
      },
      "source": [
        "# Whitespace tokenization\n"
      ]
    },
    {
      "cell_type": "markdown",
      "id": "c55e0c7f",
      "metadata": {
        "id": "c55e0c7f"
      },
      "source": [
        "First we'll just break up the words using whitespace. As noted in class, this is a really common first pass."
      ]
    },
    {
      "cell_type": "code",
      "execution_count": 4,
      "id": "00d1404f",
      "metadata": {
        "colab": {
          "base_uri": "https://localhost:8080/"
        },
        "id": "00d1404f",
        "outputId": "30ab7727-ba0c-4bf2-f077-ab992fe37d95"
      },
      "outputs": [
        {
          "output_type": "stream",
          "name": "stdout",
          "text": [
            "CPU times: user 155 µs, sys: 4 µs, total: 159 µs\n",
            "Wall time: 163 µs\n"
          ]
        },
        {
          "output_type": "execute_result",
          "data": {
            "text/plain": [
              "['SAN',\n",
              " 'FRANCISCO.',\n",
              " 'Nov.',\n",
              " '10\\n(AP).-Alvin',\n",
              " 'Dark',\n",
              " 'made',\n",
              " 'his\\nfirst',\n",
              " 'decisions',\n",
              " 'yesterday',\n",
              " 'as\\nmanager',\n",
              " 'Of',\n",
              " 'the',\n",
              " 'San',\n",
              " 'Francisco\\nGiants.',\n",
              " 'He',\n",
              " 'hired',\n",
              " 'two',\n",
              " 'former\\nteammates',\n",
              " 'as',\n",
              " 'coaches.\\n\\n\\nDark']"
            ]
          },
          "metadata": {},
          "execution_count": 4
        }
      ],
      "source": [
        "%%time\n",
        "#this is a magic function to determine how long a cell takes to run.\n",
        "#It MUST be the first thing in a cell\n",
        "\n",
        "#split the whole string on spaces. This returns a list\n",
        "whitespace_tokens = my_articles.split(' ')\n",
        "\n",
        "#check the list\n",
        "whitespace_tokens[:20]"
      ]
    },
    {
      "cell_type": "markdown",
      "id": "4bb27496",
      "metadata": {
        "id": "4bb27496"
      },
      "source": [
        "Note: \"µs\" is microseconds, or a millionth of a second 1/1,000,000"
      ]
    },
    {
      "cell_type": "markdown",
      "id": "5d4bf8ea",
      "metadata": {
        "id": "5d4bf8ea"
      },
      "source": [
        "# Morphological Tokenization\n",
        "\n",
        "Lemmatizing is the process of breaking down text into tokens by first breaking it up into \"words\" and then using syntactic knowledge of the language (in this case, English) to break up the words.\n",
        "\n",
        "Princeton maintains the [morphy project](https://wordnet.princeton.edu/documentation/morphy7wn#:~:text=Morphology%20in%20WordNet%20uses%20two,word%20that%20is%20in%20WordNet.), which powers `nltk`'s [WordNet Lemmatizer](https://www.nltk.org/api/nltk.stem.wordnet.html). You do NOT need to read this entire documentation, just acknowledge that it requires a significant amount of knowledge about English in order to make it work."
      ]
    },
    {
      "cell_type": "code",
      "execution_count": 5,
      "id": "108e29a8",
      "metadata": {
        "colab": {
          "base_uri": "https://localhost:8080/"
        },
        "id": "108e29a8",
        "outputId": "e7b5f808-99cd-40bf-eb89-7ea43d641299"
      },
      "outputs": [
        {
          "output_type": "stream",
          "name": "stderr",
          "text": [
            "[nltk_data] Downloading package wordnet to /root/nltk_data...\n",
            "[nltk_data] Downloading package omw-1.4 to /root/nltk_data...\n"
          ]
        }
      ],
      "source": [
        "#This lemmatizer is based on the Morphy project above\n",
        "from nltk.stem import WordNetLemmatizer\n",
        "\n",
        "#Uncomment these two lines - you may need to download these, maybe not.\n",
        "nltk.download('wordnet')\n",
        "nltk.download('omw-1.4')\n",
        "wn_lemmatizer = WordNetLemmatizer()"
      ]
    },
    {
      "cell_type": "code",
      "execution_count": 13,
      "id": "16560507",
      "metadata": {
        "colab": {
          "base_uri": "https://localhost:8080/"
        },
        "id": "16560507",
        "outputId": "5d65fdf9-3f4e-49e3-85fa-e9700db7535f"
      },
      "outputs": [
        {
          "output_type": "stream",
          "name": "stdout",
          "text": [
            "CPU times: user 1.68 s, sys: 73.7 ms, total: 1.76 s\n",
            "Wall time: 1.81 s\n"
          ]
        },
        {
          "output_type": "execute_result",
          "data": {
            "text/plain": [
              "['SAN',\n",
              " 'FRANCISCO.',\n",
              " 'Nov.',\n",
              " '10',\n",
              " '(AP).-Alvin',\n",
              " 'Dark',\n",
              " 'made',\n",
              " 'his',\n",
              " 'first',\n",
              " 'decision',\n",
              " 'yesterday',\n",
              " 'a',\n",
              " 'manager',\n",
              " 'Of',\n",
              " 'the',\n",
              " 'San',\n",
              " 'Francisco',\n",
              " 'Giants.',\n",
              " 'He',\n",
              " 'hired']"
            ]
          },
          "metadata": {},
          "execution_count": 13
        }
      ],
      "source": [
        "%%time\n",
        "\n",
        "#first we have to split the string on spaces to get \"words\"\n",
        "whitespace_tokens = my_articles.split(' ')\n",
        "\n",
        "my_lemmas = []\n",
        "for word in whitespace_tokens:\n",
        "    w = wn_lemmatizer.lemmatize(word)\n",
        "    my_lemmas.append(w)\n",
        "my_lemmas[:20]"
      ]
    },
    {
      "cell_type": "markdown",
      "id": "883aa4ba",
      "metadata": {
        "id": "883aa4ba"
      },
      "source": [
        "Notice how much time it takes to tokenize on whitespace versus using morphological rules. Also notice if it produced the output you expected. Sometimes it doesn't.\n",
        "\n",
        "ms is a millisecond, or one one thousandth of a second 1/1,000"
      ]
    },
    {
      "cell_type": "markdown",
      "id": "12d79061",
      "metadata": {
        "id": "12d79061"
      },
      "source": [
        "# Byte Pair Encoding"
      ]
    },
    {
      "cell_type": "markdown",
      "id": "962f282d",
      "metadata": {
        "id": "962f282d"
      },
      "source": [
        "There are two implementations of BPE here. The first [uses a package (bpe)](https://github.com/soaxelbrooke/python-bpe) that you will have to install using `pip` (see above).\n",
        "\n",
        "This will implement the algorithm we covered in class and that you can review at [Hugging Face](https://youtu.be/HEikzVL-lZU)."
      ]
    },
    {
      "cell_type": "code",
      "source": [
        "# adding !pip install bpe because Google Colab\n",
        "# adding !pip install subword-nmt because Google Colab\n",
        "\n",
        "!pip install bpe\n",
        "# !pip install --upgrade subword-nmt\n"
      ],
      "metadata": {
        "colab": {
          "base_uri": "https://localhost:8080/"
        },
        "id": "ADyvFt1QIfjw",
        "outputId": "e4d69970-e59c-4fbf-f1f7-94823e9e513d"
      },
      "id": "ADyvFt1QIfjw",
      "execution_count": 8,
      "outputs": [
        {
          "output_type": "stream",
          "name": "stdout",
          "text": [
            "Collecting bpe\n",
            "  Downloading bpe-1.0-py3-none-any.whl (6.8 kB)\n",
            "Requirement already satisfied: nltk in /usr/local/lib/python3.10/dist-packages (from bpe) (3.8.1)\n",
            "Requirement already satisfied: tqdm in /usr/local/lib/python3.10/dist-packages (from bpe) (4.66.1)\n",
            "Requirement already satisfied: pytest in /usr/local/lib/python3.10/dist-packages (from bpe) (7.4.2)\n",
            "Collecting hypothesis (from bpe)\n",
            "  Downloading hypothesis-6.87.3-py3-none-any.whl (420 kB)\n",
            "\u001b[2K     \u001b[90m━━━━━━━━━━━━━━━━━━━━━━━━━━━━━━━━━━━━━━━\u001b[0m \u001b[32m420.8/420.8 kB\u001b[0m \u001b[31m6.5 MB/s\u001b[0m eta \u001b[36m0:00:00\u001b[0m\n",
            "\u001b[?25hRequirement already satisfied: toolz in /usr/local/lib/python3.10/dist-packages (from bpe) (0.12.0)\n",
            "Collecting mypy (from bpe)\n",
            "  Downloading mypy-1.5.1-cp310-cp310-manylinux_2_17_x86_64.manylinux2014_x86_64.whl (12.1 MB)\n",
            "\u001b[2K     \u001b[90m━━━━━━━━━━━━━━━━━━━━━━━━━━━━━━━━━━━━━━━━\u001b[0m \u001b[32m12.1/12.1 MB\u001b[0m \u001b[31m67.8 MB/s\u001b[0m eta \u001b[36m0:00:00\u001b[0m\n",
            "\u001b[?25hRequirement already satisfied: attrs>=19.2.0 in /usr/local/lib/python3.10/dist-packages (from hypothesis->bpe) (23.1.0)\n",
            "Requirement already satisfied: sortedcontainers<3.0.0,>=2.1.0 in /usr/local/lib/python3.10/dist-packages (from hypothesis->bpe) (2.4.0)\n",
            "Requirement already satisfied: exceptiongroup>=1.0.0 in /usr/local/lib/python3.10/dist-packages (from hypothesis->bpe) (1.1.3)\n",
            "Requirement already satisfied: typing-extensions>=4.1.0 in /usr/local/lib/python3.10/dist-packages (from mypy->bpe) (4.5.0)\n",
            "Collecting mypy-extensions>=1.0.0 (from mypy->bpe)\n",
            "  Downloading mypy_extensions-1.0.0-py3-none-any.whl (4.7 kB)\n",
            "Requirement already satisfied: tomli>=1.1.0 in /usr/local/lib/python3.10/dist-packages (from mypy->bpe) (2.0.1)\n",
            "Requirement already satisfied: click in /usr/local/lib/python3.10/dist-packages (from nltk->bpe) (8.1.7)\n",
            "Requirement already satisfied: joblib in /usr/local/lib/python3.10/dist-packages (from nltk->bpe) (1.3.2)\n",
            "Requirement already satisfied: regex>=2021.8.3 in /usr/local/lib/python3.10/dist-packages (from nltk->bpe) (2023.6.3)\n",
            "Requirement already satisfied: iniconfig in /usr/local/lib/python3.10/dist-packages (from pytest->bpe) (2.0.0)\n",
            "Requirement already satisfied: packaging in /usr/local/lib/python3.10/dist-packages (from pytest->bpe) (23.2)\n",
            "Requirement already satisfied: pluggy<2.0,>=0.12 in /usr/local/lib/python3.10/dist-packages (from pytest->bpe) (1.3.0)\n",
            "Installing collected packages: mypy-extensions, hypothesis, mypy, bpe\n",
            "Successfully installed bpe-1.0 hypothesis-6.87.3 mypy-1.5.1 mypy-extensions-1.0.0\n"
          ]
        }
      ]
    },
    {
      "cell_type": "code",
      "execution_count": 13,
      "id": "3f1639f3",
      "metadata": {
        "id": "3f1639f3"
      },
      "outputs": [],
      "source": [
        "from bpe import Encoder\n",
        "\n",
        "\n"
      ]
    },
    {
      "cell_type": "code",
      "execution_count": null,
      "id": "8857be2b",
      "metadata": {
        "id": "8857be2b"
      },
      "outputs": [],
      "source": [
        "%%time\n",
        "whitespace_tokens = my_articles.split(' ')\n",
        "\n",
        "# calling the Encoder algorithm\n",
        "# we've specified 100 token vocab and 95% to be tokenized\n",
        "# the other 5% is transformed into UNK\n",
        "encoder = Encoder(100, pct_bpe=0.95)\n",
        "encoder.fit(whitespace_tokens)"
      ]
    },
    {
      "cell_type": "code",
      "execution_count": 12,
      "id": "ae30d518",
      "metadata": {
        "colab": {
          "base_uri": "https://localhost:8080/"
        },
        "id": "ae30d518",
        "outputId": "9048138c-02fd-4d25-893c-ce14b2b232a5"
      },
      "outputs": [
        {
          "output_type": "stream",
          "name": "stdout",
          "text": [
            "san francisco . nov . 1__unk __unk ap __unk__unk- alvin dark made his first decisions yesterday as manager of the san francisco giants . he hired two former teammates as coaches . dark was signed last week , yesterday he selected larry __unkansen and whitley lockman and retained yves westrum and salty parker for his coaching staff . bill posedel was re - leased to make way for __unkansen as boss of the bullpen . dark . __unkansen and lockman - stars when they played for the giants have a lot in common they have regulations al gentlemen , __unkuiet craftsmen whc let their feats on the field speal for them . dark hit 1__unk__unk__unk in his rookie season with the boston brave . and was named rookie of thu year l__unk__unk__unk by the ma__unkor league baseball writer ' s . as lean . smiling youngstel of 1__unk , lockman stepped intc mel otis no . __unk batting spot il midsummer of 1__unk__unk__unk anchead last saturday when mon treal lost in __unk cup playoff with out throwing a pass in the last half . moss said it was because of etcheverry ' s sore arm . the player said his arm was sound . player of the year in 1__unk__unk__unk , and a several - time all - star choice . etcheverry has collected every canadian football honor but one - that of directing a national championship club . he led montreal into the national playoff , the grey cup game , three years in a row , l__unk__unk__unk - __unk__unk - __unk__unk , but each time montreal lost 1__unk edmonton . there ' s __unkust no place like home as far as the chicago black hawks are concerned . the black hawks moved into first place in the national hook ey league last night with a __unk__unk victory over the toronto maple leafs in chicago . the detroit red wings scored three times in the last period to edge the rangers , as . in new york in the only other game played . the hustling black hawks re - manned unbeaten on chicago ice this season as goalie glenn hall fashioned his second shut out . in seven games at home chicago has won five time and tied two . on the road the black hawks are __unk - __unk - __unk . the red wings climbed into a tie for second place with the idle montreal canadiens , who dropped out of undisputed pos session of first place . chicago leads with 1__unk points . detroit and montreal have ii each . wilt chamberlain keeps on scoring baskets and the phila - delphia warriors keep on win ming games . that ' s been the theme of the national basket ball association season so far . chamberlain amassed __unk__unk points last night as the streak ing warriors defeated the los angeles lakers . l__unk__unk - 1l__unk , for their seventh consecutive vic tory . the philadelphia - los angeles game was the opener of a doubleheader at st . louis . in the second game , the hawks posted their fifth straight triumph in beating the detroit pistons , l__unk__unk - 1__unk__unk . the prolific chamberlain ' s scoring output was the highest individual effort of the season wilt also had the season __unk previous high of a . chamberlain ' s appoint har - vest was not the best of his pre - career . the __unk - foot - 1 chamber . lain , the defending scoring champion , twice clicked for __unk1 points last season and he seem . to be a good bet to crack the e__unkisting individual game mari of __unk__unk points . held by elgir baylor of the lakers . baylor kept los angeles ir contention with __unk__unk points , in . icluding l__unk - for - 1__unk from the free throw line . chamberlain , or the other hand , sank only free throws in is attempts , but connected for __unk__unk field goals . los angeles managed to sta __unk with the warriors most of tn , way and the teams entered the final period tied . philadelphia finally sealed the verdict in tht final three minutes with __unk 1__unk __unk tear . bob pettit ' s __unk__unk points spear . headed the hawks . who wer ' without the services of clyd ' lovellette , sidelined with __unk bruised hip . st . louis out scored the pistons , 1__unk__unk__unk , in tn , third period to open up al l__unk - point lead before detroi closed the gap in the fina __unkuarter . cliff hagan contributed __unk points to the hawks attack five piston players hit doubl figures , headed by gene shue ' __unk__unk . raped a home run the first time he faced a ma__unkor league pitcher . __unkansen ' s big league debut was one of the most heart warming ever . 1t took the big highlander seven years to get his first crack at the ma__unkors . when 1t finally came , after a __unk__unk - __unk season with san francisco of the pacific coast league , __unkansen ran into dismal luck . pitching against cleveland in a spring e__unkhibition game , __unkan sen was struck by a line drive hit by bob feller and suffered a fractured __unkaw . larry missed the first si__unk weeks of the l__unk__unk__unk season . he finally got his chance on may __unk__unk , pitched and won his first giant game and went on to a __unkl - __unk record , best in the ma__unkor leagues that season . dark , lockman , __unkansen and westrum were all key figures that october day in 1__unk__unk1 when bobby thomson ' s home run beat the brooklyn dodgers ir a national league playof and gave the giants their first pennant in ia years . e__unkually as important as all the other factors of the bowling motion in a good delivery is the follow - through with the hand and arm . after the ball leaves the hand on every shot the arm which has been perfectly straight throughout the entire backswing will now bend slightly at the elbow into the follow - through as 1t continues straight out in front of the body and on up to shoul - der level . never pull the arm to your left side or angle it of to the right . always stretch 1t out in front of you as though you were reaching for the target . the right leg , e__unktended swings slightly around behind the left and the left arm as sumes a comfortable position for perfect body balance . a good follow - through will direct the ball to the spot you have selected and enable the ball to roll more accurately . if the follow - through is abrupt or short , you will tend to pull the ball or it may cause you tc drop it sooner than you should do not snap or __unkerk ball al point of delivery . this tends tc place an e__unkcessive amount oi spin on the ball , causing it tt curve undesirably . __unk duckpin bowling councidnewport brings you all these famous chry__unkler benefits room . chysler seats are five feet wide , enough for adults to travel in unwrinkied ease . unibody design permits more efficient use of interior space . door openings are wide for easy entry and e__unkit . you rela__unk as you ride . montreal , nov . 1__unk __unk ap __unk__unk- canadian pro football fans still were shaking their heads in dis belief today over the trade send ing montreal ' s sam etcheverry and hal patterson to the hamilton tiger - cats for two players . ofiicials of the toronto argonauts and ottawa rough riders . the other teams in the big four league . e__unkpressed ama__unkement at the deal , in which the alouettes ac__unkuired __unkuarterback bernie faloney . former maryland star . and de - fensive end ron pa__unkuette , a canadian . a comparable deal in united states pro football would be if the baltimore colts sent __unkuarterback __unkohn unitas and end ray berry to tailend club for a pair of regulars . etcheverry . a __unkuarterback who played his college ball at denver , and patterson , a kansas end , were believed to be at outs with perry , __unk__unk - year - old general manager and rookie coach of the alouettes . such comments as __unk are they cra__unky __unk__unk and what ' s really be - hind it __unk__unk were voiced by fans on learning of the swap . one critic commented __unk ii think the whole thing must result from a bet by moss and coach __unkim trimble of hamil - ton on the united states elec - tions - and moss lost __unk moss said he reali__unkes etche - very and patterson are great individual stars , but added the team record the last four years hadn ' t reflected their personal ability . we ' re picking a player who can run with the football __unk he said . i ' ve needed a defensive end . i can guarantee one thing __unk we ' ll have a better won lost record ne__unkt year . etcheverry ' s wife said he didn ' t get along we ' ll with moss patterson a few weeks age angrily walked out on a prac - tice . the reported row came to acontinued from page c - l with the children and doing __unk bit of hunting . said he was sorry to see casey stengel leave the yankees . but added that __unk as long as he had to go they couldn ' t have picked a better man than ralph houk __unk__unk following robinson in the voting were minnie ' minoso chicago . l__unkl __unk ron hansen baltimore , ito __unk al smith . chi . cago . __unk__unk __unk roy sewers , chicago so __unk earl battey , washington __unk1 __unk bill skowron . new york , __unk__unk and __unkim lemon , washington , sc nellie fo__unk . the chicago white so__unk second basemar who won 1__unk__unk__unk mvp honors polled only ii points this yeareastern division\n"
          ]
        }
      ],
      "source": [
        "#print(encoder.tokenize(my_articles))\n",
        "\n",
        "print(next(encoder.inverse_transform(encoder.transform([my_articles]))))"
      ]
    }
  ],
  "metadata": {
    "kernelspec": {
      "display_name": "Python 3 (ipykernel)",
      "language": "python",
      "name": "python3"
    },
    "language_info": {
      "codemirror_mode": {
        "name": "ipython",
        "version": 3
      },
      "file_extension": ".py",
      "mimetype": "text/x-python",
      "name": "python",
      "nbconvert_exporter": "python",
      "pygments_lexer": "ipython3",
      "version": "3.11.3"
    },
    "colab": {
      "provenance": []
    },
    "widgets": {
      "application/vnd.jupyter.widget-state+json": {
        "1243b90984c44772a70e8e08b00b463e": {
          "model_module": "@jupyter-widgets/controls",
          "model_name": "HBoxModel",
          "model_module_version": "1.5.0",
          "state": {
            "_dom_classes": [],
            "_model_module": "@jupyter-widgets/controls",
            "_model_module_version": "1.5.0",
            "_model_name": "HBoxModel",
            "_view_count": null,
            "_view_module": "@jupyter-widgets/controls",
            "_view_module_version": "1.5.0",
            "_view_name": "HBoxView",
            "box_style": "",
            "children": [
              "IPY_MODEL_b9d65232f7e84997a937b0571875ed2e",
              "IPY_MODEL_78ec1a3f6dc2474399e0496fd7dcd17a",
              "IPY_MODEL_6f173fbe28704ed292e1534d5d8e2391"
            ],
            "layout": "IPY_MODEL_4a0e28826883465d9f8fcb4c25d032a9"
          }
        },
        "b9d65232f7e84997a937b0571875ed2e": {
          "model_module": "@jupyter-widgets/controls",
          "model_name": "HTMLModel",
          "model_module_version": "1.5.0",
          "state": {
            "_dom_classes": [],
            "_model_module": "@jupyter-widgets/controls",
            "_model_module_version": "1.5.0",
            "_model_name": "HTMLModel",
            "_view_count": null,
            "_view_module": "@jupyter-widgets/controls",
            "_view_module_version": "1.5.0",
            "_view_name": "HTMLView",
            "description": "",
            "description_tooltip": null,
            "layout": "IPY_MODEL_53f9e261fe6f43e7895d7dba2b867707",
            "placeholder": "​",
            "style": "IPY_MODEL_d5d971bc0b9b46688913830737030ee4",
            "value": "Downloading builder script: 100%"
          }
        },
        "78ec1a3f6dc2474399e0496fd7dcd17a": {
          "model_module": "@jupyter-widgets/controls",
          "model_name": "FloatProgressModel",
          "model_module_version": "1.5.0",
          "state": {
            "_dom_classes": [],
            "_model_module": "@jupyter-widgets/controls",
            "_model_module_version": "1.5.0",
            "_model_name": "FloatProgressModel",
            "_view_count": null,
            "_view_module": "@jupyter-widgets/controls",
            "_view_module_version": "1.5.0",
            "_view_name": "ProgressView",
            "bar_style": "success",
            "description": "",
            "description_tooltip": null,
            "layout": "IPY_MODEL_512693a9bf424df7b84ecff3e443d06c",
            "max": 8915,
            "min": 0,
            "orientation": "horizontal",
            "style": "IPY_MODEL_88450f672efa43d2bb195d79f33df4d1",
            "value": 8915
          }
        },
        "6f173fbe28704ed292e1534d5d8e2391": {
          "model_module": "@jupyter-widgets/controls",
          "model_name": "HTMLModel",
          "model_module_version": "1.5.0",
          "state": {
            "_dom_classes": [],
            "_model_module": "@jupyter-widgets/controls",
            "_model_module_version": "1.5.0",
            "_model_name": "HTMLModel",
            "_view_count": null,
            "_view_module": "@jupyter-widgets/controls",
            "_view_module_version": "1.5.0",
            "_view_name": "HTMLView",
            "description": "",
            "description_tooltip": null,
            "layout": "IPY_MODEL_d22b02b3a7344f3483e826ae07ec5315",
            "placeholder": "​",
            "style": "IPY_MODEL_8002bfc3cee74e799af41a3c255a7df0",
            "value": " 8.91k/8.91k [00:00&lt;00:00, 356kB/s]"
          }
        },
        "4a0e28826883465d9f8fcb4c25d032a9": {
          "model_module": "@jupyter-widgets/base",
          "model_name": "LayoutModel",
          "model_module_version": "1.2.0",
          "state": {
            "_model_module": "@jupyter-widgets/base",
            "_model_module_version": "1.2.0",
            "_model_name": "LayoutModel",
            "_view_count": null,
            "_view_module": "@jupyter-widgets/base",
            "_view_module_version": "1.2.0",
            "_view_name": "LayoutView",
            "align_content": null,
            "align_items": null,
            "align_self": null,
            "border": null,
            "bottom": null,
            "display": null,
            "flex": null,
            "flex_flow": null,
            "grid_area": null,
            "grid_auto_columns": null,
            "grid_auto_flow": null,
            "grid_auto_rows": null,
            "grid_column": null,
            "grid_gap": null,
            "grid_row": null,
            "grid_template_areas": null,
            "grid_template_columns": null,
            "grid_template_rows": null,
            "height": null,
            "justify_content": null,
            "justify_items": null,
            "left": null,
            "margin": null,
            "max_height": null,
            "max_width": null,
            "min_height": null,
            "min_width": null,
            "object_fit": null,
            "object_position": null,
            "order": null,
            "overflow": null,
            "overflow_x": null,
            "overflow_y": null,
            "padding": null,
            "right": null,
            "top": null,
            "visibility": null,
            "width": null
          }
        },
        "53f9e261fe6f43e7895d7dba2b867707": {
          "model_module": "@jupyter-widgets/base",
          "model_name": "LayoutModel",
          "model_module_version": "1.2.0",
          "state": {
            "_model_module": "@jupyter-widgets/base",
            "_model_module_version": "1.2.0",
            "_model_name": "LayoutModel",
            "_view_count": null,
            "_view_module": "@jupyter-widgets/base",
            "_view_module_version": "1.2.0",
            "_view_name": "LayoutView",
            "align_content": null,
            "align_items": null,
            "align_self": null,
            "border": null,
            "bottom": null,
            "display": null,
            "flex": null,
            "flex_flow": null,
            "grid_area": null,
            "grid_auto_columns": null,
            "grid_auto_flow": null,
            "grid_auto_rows": null,
            "grid_column": null,
            "grid_gap": null,
            "grid_row": null,
            "grid_template_areas": null,
            "grid_template_columns": null,
            "grid_template_rows": null,
            "height": null,
            "justify_content": null,
            "justify_items": null,
            "left": null,
            "margin": null,
            "max_height": null,
            "max_width": null,
            "min_height": null,
            "min_width": null,
            "object_fit": null,
            "object_position": null,
            "order": null,
            "overflow": null,
            "overflow_x": null,
            "overflow_y": null,
            "padding": null,
            "right": null,
            "top": null,
            "visibility": null,
            "width": null
          }
        },
        "d5d971bc0b9b46688913830737030ee4": {
          "model_module": "@jupyter-widgets/controls",
          "model_name": "DescriptionStyleModel",
          "model_module_version": "1.5.0",
          "state": {
            "_model_module": "@jupyter-widgets/controls",
            "_model_module_version": "1.5.0",
            "_model_name": "DescriptionStyleModel",
            "_view_count": null,
            "_view_module": "@jupyter-widgets/base",
            "_view_module_version": "1.2.0",
            "_view_name": "StyleView",
            "description_width": ""
          }
        },
        "512693a9bf424df7b84ecff3e443d06c": {
          "model_module": "@jupyter-widgets/base",
          "model_name": "LayoutModel",
          "model_module_version": "1.2.0",
          "state": {
            "_model_module": "@jupyter-widgets/base",
            "_model_module_version": "1.2.0",
            "_model_name": "LayoutModel",
            "_view_count": null,
            "_view_module": "@jupyter-widgets/base",
            "_view_module_version": "1.2.0",
            "_view_name": "LayoutView",
            "align_content": null,
            "align_items": null,
            "align_self": null,
            "border": null,
            "bottom": null,
            "display": null,
            "flex": null,
            "flex_flow": null,
            "grid_area": null,
            "grid_auto_columns": null,
            "grid_auto_flow": null,
            "grid_auto_rows": null,
            "grid_column": null,
            "grid_gap": null,
            "grid_row": null,
            "grid_template_areas": null,
            "grid_template_columns": null,
            "grid_template_rows": null,
            "height": null,
            "justify_content": null,
            "justify_items": null,
            "left": null,
            "margin": null,
            "max_height": null,
            "max_width": null,
            "min_height": null,
            "min_width": null,
            "object_fit": null,
            "object_position": null,
            "order": null,
            "overflow": null,
            "overflow_x": null,
            "overflow_y": null,
            "padding": null,
            "right": null,
            "top": null,
            "visibility": null,
            "width": null
          }
        },
        "88450f672efa43d2bb195d79f33df4d1": {
          "model_module": "@jupyter-widgets/controls",
          "model_name": "ProgressStyleModel",
          "model_module_version": "1.5.0",
          "state": {
            "_model_module": "@jupyter-widgets/controls",
            "_model_module_version": "1.5.0",
            "_model_name": "ProgressStyleModel",
            "_view_count": null,
            "_view_module": "@jupyter-widgets/base",
            "_view_module_version": "1.2.0",
            "_view_name": "StyleView",
            "bar_color": null,
            "description_width": ""
          }
        },
        "d22b02b3a7344f3483e826ae07ec5315": {
          "model_module": "@jupyter-widgets/base",
          "model_name": "LayoutModel",
          "model_module_version": "1.2.0",
          "state": {
            "_model_module": "@jupyter-widgets/base",
            "_model_module_version": "1.2.0",
            "_model_name": "LayoutModel",
            "_view_count": null,
            "_view_module": "@jupyter-widgets/base",
            "_view_module_version": "1.2.0",
            "_view_name": "LayoutView",
            "align_content": null,
            "align_items": null,
            "align_self": null,
            "border": null,
            "bottom": null,
            "display": null,
            "flex": null,
            "flex_flow": null,
            "grid_area": null,
            "grid_auto_columns": null,
            "grid_auto_flow": null,
            "grid_auto_rows": null,
            "grid_column": null,
            "grid_gap": null,
            "grid_row": null,
            "grid_template_areas": null,
            "grid_template_columns": null,
            "grid_template_rows": null,
            "height": null,
            "justify_content": null,
            "justify_items": null,
            "left": null,
            "margin": null,
            "max_height": null,
            "max_width": null,
            "min_height": null,
            "min_width": null,
            "object_fit": null,
            "object_position": null,
            "order": null,
            "overflow": null,
            "overflow_x": null,
            "overflow_y": null,
            "padding": null,
            "right": null,
            "top": null,
            "visibility": null,
            "width": null
          }
        },
        "8002bfc3cee74e799af41a3c255a7df0": {
          "model_module": "@jupyter-widgets/controls",
          "model_name": "DescriptionStyleModel",
          "model_module_version": "1.5.0",
          "state": {
            "_model_module": "@jupyter-widgets/controls",
            "_model_module_version": "1.5.0",
            "_model_name": "DescriptionStyleModel",
            "_view_count": null,
            "_view_module": "@jupyter-widgets/base",
            "_view_module_version": "1.2.0",
            "_view_name": "StyleView",
            "description_width": ""
          }
        },
        "c4307190383b4897b7014ad79daef2cd": {
          "model_module": "@jupyter-widgets/controls",
          "model_name": "HBoxModel",
          "model_module_version": "1.5.0",
          "state": {
            "_dom_classes": [],
            "_model_module": "@jupyter-widgets/controls",
            "_model_module_version": "1.5.0",
            "_model_name": "HBoxModel",
            "_view_count": null,
            "_view_module": "@jupyter-widgets/controls",
            "_view_module_version": "1.5.0",
            "_view_name": "HBoxView",
            "box_style": "",
            "children": [
              "IPY_MODEL_dce5343e88e34491b65bfa5a99efd42c",
              "IPY_MODEL_fb3de02865574d7292a8f97352fd30be",
              "IPY_MODEL_87da0a3e2cb14da7bee4835e3a7e8f1d"
            ],
            "layout": "IPY_MODEL_619672c14a784c78a68541c07a907388"
          }
        },
        "dce5343e88e34491b65bfa5a99efd42c": {
          "model_module": "@jupyter-widgets/controls",
          "model_name": "HTMLModel",
          "model_module_version": "1.5.0",
          "state": {
            "_dom_classes": [],
            "_model_module": "@jupyter-widgets/controls",
            "_model_module_version": "1.5.0",
            "_model_name": "HTMLModel",
            "_view_count": null,
            "_view_module": "@jupyter-widgets/controls",
            "_view_module_version": "1.5.0",
            "_view_name": "HTMLView",
            "description": "",
            "description_tooltip": null,
            "layout": "IPY_MODEL_d8b068bfd3e24494a7af25d02fe594b0",
            "placeholder": "​",
            "style": "IPY_MODEL_b5ad4269e8ff44188b30fc99f445ce31",
            "value": "Downloading readme: 100%"
          }
        },
        "fb3de02865574d7292a8f97352fd30be": {
          "model_module": "@jupyter-widgets/controls",
          "model_name": "FloatProgressModel",
          "model_module_version": "1.5.0",
          "state": {
            "_dom_classes": [],
            "_model_module": "@jupyter-widgets/controls",
            "_model_module_version": "1.5.0",
            "_model_name": "FloatProgressModel",
            "_view_count": null,
            "_view_module": "@jupyter-widgets/controls",
            "_view_module_version": "1.5.0",
            "_view_name": "ProgressView",
            "bar_style": "success",
            "description": "",
            "description_tooltip": null,
            "layout": "IPY_MODEL_61013539af9b4f5393db58b76405e49f",
            "max": 8019,
            "min": 0,
            "orientation": "horizontal",
            "style": "IPY_MODEL_f62046b6b8414d78bda569fd4e9391d1",
            "value": 8019
          }
        },
        "87da0a3e2cb14da7bee4835e3a7e8f1d": {
          "model_module": "@jupyter-widgets/controls",
          "model_name": "HTMLModel",
          "model_module_version": "1.5.0",
          "state": {
            "_dom_classes": [],
            "_model_module": "@jupyter-widgets/controls",
            "_model_module_version": "1.5.0",
            "_model_name": "HTMLModel",
            "_view_count": null,
            "_view_module": "@jupyter-widgets/controls",
            "_view_module_version": "1.5.0",
            "_view_name": "HTMLView",
            "description": "",
            "description_tooltip": null,
            "layout": "IPY_MODEL_8dcaff4dac9f4d5496294a1c097973a8",
            "placeholder": "​",
            "style": "IPY_MODEL_a53ca9304aff4dbe93549df4ca414f1f",
            "value": " 8.02k/8.02k [00:00&lt;00:00, 341kB/s]"
          }
        },
        "619672c14a784c78a68541c07a907388": {
          "model_module": "@jupyter-widgets/base",
          "model_name": "LayoutModel",
          "model_module_version": "1.2.0",
          "state": {
            "_model_module": "@jupyter-widgets/base",
            "_model_module_version": "1.2.0",
            "_model_name": "LayoutModel",
            "_view_count": null,
            "_view_module": "@jupyter-widgets/base",
            "_view_module_version": "1.2.0",
            "_view_name": "LayoutView",
            "align_content": null,
            "align_items": null,
            "align_self": null,
            "border": null,
            "bottom": null,
            "display": null,
            "flex": null,
            "flex_flow": null,
            "grid_area": null,
            "grid_auto_columns": null,
            "grid_auto_flow": null,
            "grid_auto_rows": null,
            "grid_column": null,
            "grid_gap": null,
            "grid_row": null,
            "grid_template_areas": null,
            "grid_template_columns": null,
            "grid_template_rows": null,
            "height": null,
            "justify_content": null,
            "justify_items": null,
            "left": null,
            "margin": null,
            "max_height": null,
            "max_width": null,
            "min_height": null,
            "min_width": null,
            "object_fit": null,
            "object_position": null,
            "order": null,
            "overflow": null,
            "overflow_x": null,
            "overflow_y": null,
            "padding": null,
            "right": null,
            "top": null,
            "visibility": null,
            "width": null
          }
        },
        "d8b068bfd3e24494a7af25d02fe594b0": {
          "model_module": "@jupyter-widgets/base",
          "model_name": "LayoutModel",
          "model_module_version": "1.2.0",
          "state": {
            "_model_module": "@jupyter-widgets/base",
            "_model_module_version": "1.2.0",
            "_model_name": "LayoutModel",
            "_view_count": null,
            "_view_module": "@jupyter-widgets/base",
            "_view_module_version": "1.2.0",
            "_view_name": "LayoutView",
            "align_content": null,
            "align_items": null,
            "align_self": null,
            "border": null,
            "bottom": null,
            "display": null,
            "flex": null,
            "flex_flow": null,
            "grid_area": null,
            "grid_auto_columns": null,
            "grid_auto_flow": null,
            "grid_auto_rows": null,
            "grid_column": null,
            "grid_gap": null,
            "grid_row": null,
            "grid_template_areas": null,
            "grid_template_columns": null,
            "grid_template_rows": null,
            "height": null,
            "justify_content": null,
            "justify_items": null,
            "left": null,
            "margin": null,
            "max_height": null,
            "max_width": null,
            "min_height": null,
            "min_width": null,
            "object_fit": null,
            "object_position": null,
            "order": null,
            "overflow": null,
            "overflow_x": null,
            "overflow_y": null,
            "padding": null,
            "right": null,
            "top": null,
            "visibility": null,
            "width": null
          }
        },
        "b5ad4269e8ff44188b30fc99f445ce31": {
          "model_module": "@jupyter-widgets/controls",
          "model_name": "DescriptionStyleModel",
          "model_module_version": "1.5.0",
          "state": {
            "_model_module": "@jupyter-widgets/controls",
            "_model_module_version": "1.5.0",
            "_model_name": "DescriptionStyleModel",
            "_view_count": null,
            "_view_module": "@jupyter-widgets/base",
            "_view_module_version": "1.2.0",
            "_view_name": "StyleView",
            "description_width": ""
          }
        },
        "61013539af9b4f5393db58b76405e49f": {
          "model_module": "@jupyter-widgets/base",
          "model_name": "LayoutModel",
          "model_module_version": "1.2.0",
          "state": {
            "_model_module": "@jupyter-widgets/base",
            "_model_module_version": "1.2.0",
            "_model_name": "LayoutModel",
            "_view_count": null,
            "_view_module": "@jupyter-widgets/base",
            "_view_module_version": "1.2.0",
            "_view_name": "LayoutView",
            "align_content": null,
            "align_items": null,
            "align_self": null,
            "border": null,
            "bottom": null,
            "display": null,
            "flex": null,
            "flex_flow": null,
            "grid_area": null,
            "grid_auto_columns": null,
            "grid_auto_flow": null,
            "grid_auto_rows": null,
            "grid_column": null,
            "grid_gap": null,
            "grid_row": null,
            "grid_template_areas": null,
            "grid_template_columns": null,
            "grid_template_rows": null,
            "height": null,
            "justify_content": null,
            "justify_items": null,
            "left": null,
            "margin": null,
            "max_height": null,
            "max_width": null,
            "min_height": null,
            "min_width": null,
            "object_fit": null,
            "object_position": null,
            "order": null,
            "overflow": null,
            "overflow_x": null,
            "overflow_y": null,
            "padding": null,
            "right": null,
            "top": null,
            "visibility": null,
            "width": null
          }
        },
        "f62046b6b8414d78bda569fd4e9391d1": {
          "model_module": "@jupyter-widgets/controls",
          "model_name": "ProgressStyleModel",
          "model_module_version": "1.5.0",
          "state": {
            "_model_module": "@jupyter-widgets/controls",
            "_model_module_version": "1.5.0",
            "_model_name": "ProgressStyleModel",
            "_view_count": null,
            "_view_module": "@jupyter-widgets/base",
            "_view_module_version": "1.2.0",
            "_view_name": "StyleView",
            "bar_color": null,
            "description_width": ""
          }
        },
        "8dcaff4dac9f4d5496294a1c097973a8": {
          "model_module": "@jupyter-widgets/base",
          "model_name": "LayoutModel",
          "model_module_version": "1.2.0",
          "state": {
            "_model_module": "@jupyter-widgets/base",
            "_model_module_version": "1.2.0",
            "_model_name": "LayoutModel",
            "_view_count": null,
            "_view_module": "@jupyter-widgets/base",
            "_view_module_version": "1.2.0",
            "_view_name": "LayoutView",
            "align_content": null,
            "align_items": null,
            "align_self": null,
            "border": null,
            "bottom": null,
            "display": null,
            "flex": null,
            "flex_flow": null,
            "grid_area": null,
            "grid_auto_columns": null,
            "grid_auto_flow": null,
            "grid_auto_rows": null,
            "grid_column": null,
            "grid_gap": null,
            "grid_row": null,
            "grid_template_areas": null,
            "grid_template_columns": null,
            "grid_template_rows": null,
            "height": null,
            "justify_content": null,
            "justify_items": null,
            "left": null,
            "margin": null,
            "max_height": null,
            "max_width": null,
            "min_height": null,
            "min_width": null,
            "object_fit": null,
            "object_position": null,
            "order": null,
            "overflow": null,
            "overflow_x": null,
            "overflow_y": null,
            "padding": null,
            "right": null,
            "top": null,
            "visibility": null,
            "width": null
          }
        },
        "a53ca9304aff4dbe93549df4ca414f1f": {
          "model_module": "@jupyter-widgets/controls",
          "model_name": "DescriptionStyleModel",
          "model_module_version": "1.5.0",
          "state": {
            "_model_module": "@jupyter-widgets/controls",
            "_model_module_version": "1.5.0",
            "_model_name": "DescriptionStyleModel",
            "_view_count": null,
            "_view_module": "@jupyter-widgets/base",
            "_view_module_version": "1.2.0",
            "_view_name": "StyleView",
            "description_width": ""
          }
        },
        "f21a464bdcb444518462085d2766ad4c": {
          "model_module": "@jupyter-widgets/controls",
          "model_name": "HBoxModel",
          "model_module_version": "1.5.0",
          "state": {
            "_dom_classes": [],
            "_model_module": "@jupyter-widgets/controls",
            "_model_module_version": "1.5.0",
            "_model_name": "HBoxModel",
            "_view_count": null,
            "_view_module": "@jupyter-widgets/controls",
            "_view_module_version": "1.5.0",
            "_view_name": "HBoxView",
            "box_style": "",
            "children": [
              "IPY_MODEL_2c5e80a7fdd043eb919e31a5631786b0",
              "IPY_MODEL_029e8a69a1ba4ed89fa17cc57c2ee5d8",
              "IPY_MODEL_b23836639b384de684803856d92880a9"
            ],
            "layout": "IPY_MODEL_f6649593b1b44ff49f417b1e18be4e29"
          }
        },
        "2c5e80a7fdd043eb919e31a5631786b0": {
          "model_module": "@jupyter-widgets/controls",
          "model_name": "HTMLModel",
          "model_module_version": "1.5.0",
          "state": {
            "_dom_classes": [],
            "_model_module": "@jupyter-widgets/controls",
            "_model_module_version": "1.5.0",
            "_model_name": "HTMLModel",
            "_view_count": null,
            "_view_module": "@jupyter-widgets/controls",
            "_view_module_version": "1.5.0",
            "_view_name": "HTMLView",
            "description": "",
            "description_tooltip": null,
            "layout": "IPY_MODEL_5f4d35f858b842ccbc6d844d5cecc565",
            "placeholder": "​",
            "style": "IPY_MODEL_cc84c07fc05f45a2b6a9c3c0c0f42273",
            "value": "Downloading data files: 100%"
          }
        },
        "029e8a69a1ba4ed89fa17cc57c2ee5d8": {
          "model_module": "@jupyter-widgets/controls",
          "model_name": "FloatProgressModel",
          "model_module_version": "1.5.0",
          "state": {
            "_dom_classes": [],
            "_model_module": "@jupyter-widgets/controls",
            "_model_module_version": "1.5.0",
            "_model_name": "FloatProgressModel",
            "_view_count": null,
            "_view_module": "@jupyter-widgets/controls",
            "_view_module_version": "1.5.0",
            "_view_name": "ProgressView",
            "bar_style": "success",
            "description": "",
            "description_tooltip": null,
            "layout": "IPY_MODEL_ddcf2f447a4b450888047b0dfac9d9f6",
            "max": 1,
            "min": 0,
            "orientation": "horizontal",
            "style": "IPY_MODEL_4e31163018464e04b1a9e4bdc1d8ec24",
            "value": 1
          }
        },
        "b23836639b384de684803856d92880a9": {
          "model_module": "@jupyter-widgets/controls",
          "model_name": "HTMLModel",
          "model_module_version": "1.5.0",
          "state": {
            "_dom_classes": [],
            "_model_module": "@jupyter-widgets/controls",
            "_model_module_version": "1.5.0",
            "_model_name": "HTMLModel",
            "_view_count": null,
            "_view_module": "@jupyter-widgets/controls",
            "_view_module_version": "1.5.0",
            "_view_name": "HTMLView",
            "description": "",
            "description_tooltip": null,
            "layout": "IPY_MODEL_77985b7a7e1b44bd9b2c2a4dbc9becd8",
            "placeholder": "​",
            "style": "IPY_MODEL_08381fb943be4212988cb1e0674faa0a",
            "value": " 1/1 [00:05&lt;00:00,  5.56s/it]"
          }
        },
        "f6649593b1b44ff49f417b1e18be4e29": {
          "model_module": "@jupyter-widgets/base",
          "model_name": "LayoutModel",
          "model_module_version": "1.2.0",
          "state": {
            "_model_module": "@jupyter-widgets/base",
            "_model_module_version": "1.2.0",
            "_model_name": "LayoutModel",
            "_view_count": null,
            "_view_module": "@jupyter-widgets/base",
            "_view_module_version": "1.2.0",
            "_view_name": "LayoutView",
            "align_content": null,
            "align_items": null,
            "align_self": null,
            "border": null,
            "bottom": null,
            "display": null,
            "flex": null,
            "flex_flow": null,
            "grid_area": null,
            "grid_auto_columns": null,
            "grid_auto_flow": null,
            "grid_auto_rows": null,
            "grid_column": null,
            "grid_gap": null,
            "grid_row": null,
            "grid_template_areas": null,
            "grid_template_columns": null,
            "grid_template_rows": null,
            "height": null,
            "justify_content": null,
            "justify_items": null,
            "left": null,
            "margin": null,
            "max_height": null,
            "max_width": null,
            "min_height": null,
            "min_width": null,
            "object_fit": null,
            "object_position": null,
            "order": null,
            "overflow": null,
            "overflow_x": null,
            "overflow_y": null,
            "padding": null,
            "right": null,
            "top": null,
            "visibility": null,
            "width": null
          }
        },
        "5f4d35f858b842ccbc6d844d5cecc565": {
          "model_module": "@jupyter-widgets/base",
          "model_name": "LayoutModel",
          "model_module_version": "1.2.0",
          "state": {
            "_model_module": "@jupyter-widgets/base",
            "_model_module_version": "1.2.0",
            "_model_name": "LayoutModel",
            "_view_count": null,
            "_view_module": "@jupyter-widgets/base",
            "_view_module_version": "1.2.0",
            "_view_name": "LayoutView",
            "align_content": null,
            "align_items": null,
            "align_self": null,
            "border": null,
            "bottom": null,
            "display": null,
            "flex": null,
            "flex_flow": null,
            "grid_area": null,
            "grid_auto_columns": null,
            "grid_auto_flow": null,
            "grid_auto_rows": null,
            "grid_column": null,
            "grid_gap": null,
            "grid_row": null,
            "grid_template_areas": null,
            "grid_template_columns": null,
            "grid_template_rows": null,
            "height": null,
            "justify_content": null,
            "justify_items": null,
            "left": null,
            "margin": null,
            "max_height": null,
            "max_width": null,
            "min_height": null,
            "min_width": null,
            "object_fit": null,
            "object_position": null,
            "order": null,
            "overflow": null,
            "overflow_x": null,
            "overflow_y": null,
            "padding": null,
            "right": null,
            "top": null,
            "visibility": null,
            "width": null
          }
        },
        "cc84c07fc05f45a2b6a9c3c0c0f42273": {
          "model_module": "@jupyter-widgets/controls",
          "model_name": "DescriptionStyleModel",
          "model_module_version": "1.5.0",
          "state": {
            "_model_module": "@jupyter-widgets/controls",
            "_model_module_version": "1.5.0",
            "_model_name": "DescriptionStyleModel",
            "_view_count": null,
            "_view_module": "@jupyter-widgets/base",
            "_view_module_version": "1.2.0",
            "_view_name": "StyleView",
            "description_width": ""
          }
        },
        "ddcf2f447a4b450888047b0dfac9d9f6": {
          "model_module": "@jupyter-widgets/base",
          "model_name": "LayoutModel",
          "model_module_version": "1.2.0",
          "state": {
            "_model_module": "@jupyter-widgets/base",
            "_model_module_version": "1.2.0",
            "_model_name": "LayoutModel",
            "_view_count": null,
            "_view_module": "@jupyter-widgets/base",
            "_view_module_version": "1.2.0",
            "_view_name": "LayoutView",
            "align_content": null,
            "align_items": null,
            "align_self": null,
            "border": null,
            "bottom": null,
            "display": null,
            "flex": null,
            "flex_flow": null,
            "grid_area": null,
            "grid_auto_columns": null,
            "grid_auto_flow": null,
            "grid_auto_rows": null,
            "grid_column": null,
            "grid_gap": null,
            "grid_row": null,
            "grid_template_areas": null,
            "grid_template_columns": null,
            "grid_template_rows": null,
            "height": null,
            "justify_content": null,
            "justify_items": null,
            "left": null,
            "margin": null,
            "max_height": null,
            "max_width": null,
            "min_height": null,
            "min_width": null,
            "object_fit": null,
            "object_position": null,
            "order": null,
            "overflow": null,
            "overflow_x": null,
            "overflow_y": null,
            "padding": null,
            "right": null,
            "top": null,
            "visibility": null,
            "width": null
          }
        },
        "4e31163018464e04b1a9e4bdc1d8ec24": {
          "model_module": "@jupyter-widgets/controls",
          "model_name": "ProgressStyleModel",
          "model_module_version": "1.5.0",
          "state": {
            "_model_module": "@jupyter-widgets/controls",
            "_model_module_version": "1.5.0",
            "_model_name": "ProgressStyleModel",
            "_view_count": null,
            "_view_module": "@jupyter-widgets/base",
            "_view_module_version": "1.2.0",
            "_view_name": "StyleView",
            "bar_color": null,
            "description_width": ""
          }
        },
        "77985b7a7e1b44bd9b2c2a4dbc9becd8": {
          "model_module": "@jupyter-widgets/base",
          "model_name": "LayoutModel",
          "model_module_version": "1.2.0",
          "state": {
            "_model_module": "@jupyter-widgets/base",
            "_model_module_version": "1.2.0",
            "_model_name": "LayoutModel",
            "_view_count": null,
            "_view_module": "@jupyter-widgets/base",
            "_view_module_version": "1.2.0",
            "_view_name": "LayoutView",
            "align_content": null,
            "align_items": null,
            "align_self": null,
            "border": null,
            "bottom": null,
            "display": null,
            "flex": null,
            "flex_flow": null,
            "grid_area": null,
            "grid_auto_columns": null,
            "grid_auto_flow": null,
            "grid_auto_rows": null,
            "grid_column": null,
            "grid_gap": null,
            "grid_row": null,
            "grid_template_areas": null,
            "grid_template_columns": null,
            "grid_template_rows": null,
            "height": null,
            "justify_content": null,
            "justify_items": null,
            "left": null,
            "margin": null,
            "max_height": null,
            "max_width": null,
            "min_height": null,
            "min_width": null,
            "object_fit": null,
            "object_position": null,
            "order": null,
            "overflow": null,
            "overflow_x": null,
            "overflow_y": null,
            "padding": null,
            "right": null,
            "top": null,
            "visibility": null,
            "width": null
          }
        },
        "08381fb943be4212988cb1e0674faa0a": {
          "model_module": "@jupyter-widgets/controls",
          "model_name": "DescriptionStyleModel",
          "model_module_version": "1.5.0",
          "state": {
            "_model_module": "@jupyter-widgets/controls",
            "_model_module_version": "1.5.0",
            "_model_name": "DescriptionStyleModel",
            "_view_count": null,
            "_view_module": "@jupyter-widgets/base",
            "_view_module_version": "1.2.0",
            "_view_name": "StyleView",
            "description_width": ""
          }
        },
        "d4b3ce12b6b341b3890f38cf9cc0d782": {
          "model_module": "@jupyter-widgets/controls",
          "model_name": "HBoxModel",
          "model_module_version": "1.5.0",
          "state": {
            "_dom_classes": [],
            "_model_module": "@jupyter-widgets/controls",
            "_model_module_version": "1.5.0",
            "_model_name": "HBoxModel",
            "_view_count": null,
            "_view_module": "@jupyter-widgets/controls",
            "_view_module_version": "1.5.0",
            "_view_name": "HBoxView",
            "box_style": "",
            "children": [
              "IPY_MODEL_89b4ad22088f477db8109e0894bf055e",
              "IPY_MODEL_01c46033c9ef4f419fc721d9695a54c9",
              "IPY_MODEL_4c6ffdd3910541e585b3dbcbeb8efcc7"
            ],
            "layout": "IPY_MODEL_8c23987f0df64fc1be819e37ec0d7297"
          }
        },
        "89b4ad22088f477db8109e0894bf055e": {
          "model_module": "@jupyter-widgets/controls",
          "model_name": "HTMLModel",
          "model_module_version": "1.5.0",
          "state": {
            "_dom_classes": [],
            "_model_module": "@jupyter-widgets/controls",
            "_model_module_version": "1.5.0",
            "_model_name": "HTMLModel",
            "_view_count": null,
            "_view_module": "@jupyter-widgets/controls",
            "_view_module_version": "1.5.0",
            "_view_name": "HTMLView",
            "description": "",
            "description_tooltip": null,
            "layout": "IPY_MODEL_a855df12a5854328a115a2efadd2ccf4",
            "placeholder": "​",
            "style": "IPY_MODEL_7aefd266177d481b997f531dcb439a7b",
            "value": "Downloading data: 100%"
          }
        },
        "01c46033c9ef4f419fc721d9695a54c9": {
          "model_module": "@jupyter-widgets/controls",
          "model_name": "FloatProgressModel",
          "model_module_version": "1.5.0",
          "state": {
            "_dom_classes": [],
            "_model_module": "@jupyter-widgets/controls",
            "_model_module_version": "1.5.0",
            "_model_name": "FloatProgressModel",
            "_view_count": null,
            "_view_module": "@jupyter-widgets/controls",
            "_view_module_version": "1.5.0",
            "_view_name": "ProgressView",
            "bar_style": "success",
            "description": "",
            "description_tooltip": null,
            "layout": "IPY_MODEL_99dff9dc33364793a2bc542d16aaebc8",
            "max": 255585500,
            "min": 0,
            "orientation": "horizontal",
            "style": "IPY_MODEL_0d07dddc466d426aa9c9a2de842a6d67",
            "value": 255585500
          }
        },
        "4c6ffdd3910541e585b3dbcbeb8efcc7": {
          "model_module": "@jupyter-widgets/controls",
          "model_name": "HTMLModel",
          "model_module_version": "1.5.0",
          "state": {
            "_dom_classes": [],
            "_model_module": "@jupyter-widgets/controls",
            "_model_module_version": "1.5.0",
            "_model_name": "HTMLModel",
            "_view_count": null,
            "_view_module": "@jupyter-widgets/controls",
            "_view_module_version": "1.5.0",
            "_view_name": "HTMLView",
            "description": "",
            "description_tooltip": null,
            "layout": "IPY_MODEL_f2afad68e33c408aafaccd6784b2876f",
            "placeholder": "​",
            "style": "IPY_MODEL_a3f93f043717432eac64f11f069754de",
            "value": " 256M/256M [00:03&lt;00:00, 65.5MB/s]"
          }
        },
        "8c23987f0df64fc1be819e37ec0d7297": {
          "model_module": "@jupyter-widgets/base",
          "model_name": "LayoutModel",
          "model_module_version": "1.2.0",
          "state": {
            "_model_module": "@jupyter-widgets/base",
            "_model_module_version": "1.2.0",
            "_model_name": "LayoutModel",
            "_view_count": null,
            "_view_module": "@jupyter-widgets/base",
            "_view_module_version": "1.2.0",
            "_view_name": "LayoutView",
            "align_content": null,
            "align_items": null,
            "align_self": null,
            "border": null,
            "bottom": null,
            "display": null,
            "flex": null,
            "flex_flow": null,
            "grid_area": null,
            "grid_auto_columns": null,
            "grid_auto_flow": null,
            "grid_auto_rows": null,
            "grid_column": null,
            "grid_gap": null,
            "grid_row": null,
            "grid_template_areas": null,
            "grid_template_columns": null,
            "grid_template_rows": null,
            "height": null,
            "justify_content": null,
            "justify_items": null,
            "left": null,
            "margin": null,
            "max_height": null,
            "max_width": null,
            "min_height": null,
            "min_width": null,
            "object_fit": null,
            "object_position": null,
            "order": null,
            "overflow": null,
            "overflow_x": null,
            "overflow_y": null,
            "padding": null,
            "right": null,
            "top": null,
            "visibility": null,
            "width": null
          }
        },
        "a855df12a5854328a115a2efadd2ccf4": {
          "model_module": "@jupyter-widgets/base",
          "model_name": "LayoutModel",
          "model_module_version": "1.2.0",
          "state": {
            "_model_module": "@jupyter-widgets/base",
            "_model_module_version": "1.2.0",
            "_model_name": "LayoutModel",
            "_view_count": null,
            "_view_module": "@jupyter-widgets/base",
            "_view_module_version": "1.2.0",
            "_view_name": "LayoutView",
            "align_content": null,
            "align_items": null,
            "align_self": null,
            "border": null,
            "bottom": null,
            "display": null,
            "flex": null,
            "flex_flow": null,
            "grid_area": null,
            "grid_auto_columns": null,
            "grid_auto_flow": null,
            "grid_auto_rows": null,
            "grid_column": null,
            "grid_gap": null,
            "grid_row": null,
            "grid_template_areas": null,
            "grid_template_columns": null,
            "grid_template_rows": null,
            "height": null,
            "justify_content": null,
            "justify_items": null,
            "left": null,
            "margin": null,
            "max_height": null,
            "max_width": null,
            "min_height": null,
            "min_width": null,
            "object_fit": null,
            "object_position": null,
            "order": null,
            "overflow": null,
            "overflow_x": null,
            "overflow_y": null,
            "padding": null,
            "right": null,
            "top": null,
            "visibility": null,
            "width": null
          }
        },
        "7aefd266177d481b997f531dcb439a7b": {
          "model_module": "@jupyter-widgets/controls",
          "model_name": "DescriptionStyleModel",
          "model_module_version": "1.5.0",
          "state": {
            "_model_module": "@jupyter-widgets/controls",
            "_model_module_version": "1.5.0",
            "_model_name": "DescriptionStyleModel",
            "_view_count": null,
            "_view_module": "@jupyter-widgets/base",
            "_view_module_version": "1.2.0",
            "_view_name": "StyleView",
            "description_width": ""
          }
        },
        "99dff9dc33364793a2bc542d16aaebc8": {
          "model_module": "@jupyter-widgets/base",
          "model_name": "LayoutModel",
          "model_module_version": "1.2.0",
          "state": {
            "_model_module": "@jupyter-widgets/base",
            "_model_module_version": "1.2.0",
            "_model_name": "LayoutModel",
            "_view_count": null,
            "_view_module": "@jupyter-widgets/base",
            "_view_module_version": "1.2.0",
            "_view_name": "LayoutView",
            "align_content": null,
            "align_items": null,
            "align_self": null,
            "border": null,
            "bottom": null,
            "display": null,
            "flex": null,
            "flex_flow": null,
            "grid_area": null,
            "grid_auto_columns": null,
            "grid_auto_flow": null,
            "grid_auto_rows": null,
            "grid_column": null,
            "grid_gap": null,
            "grid_row": null,
            "grid_template_areas": null,
            "grid_template_columns": null,
            "grid_template_rows": null,
            "height": null,
            "justify_content": null,
            "justify_items": null,
            "left": null,
            "margin": null,
            "max_height": null,
            "max_width": null,
            "min_height": null,
            "min_width": null,
            "object_fit": null,
            "object_position": null,
            "order": null,
            "overflow": null,
            "overflow_x": null,
            "overflow_y": null,
            "padding": null,
            "right": null,
            "top": null,
            "visibility": null,
            "width": null
          }
        },
        "0d07dddc466d426aa9c9a2de842a6d67": {
          "model_module": "@jupyter-widgets/controls",
          "model_name": "ProgressStyleModel",
          "model_module_version": "1.5.0",
          "state": {
            "_model_module": "@jupyter-widgets/controls",
            "_model_module_version": "1.5.0",
            "_model_name": "ProgressStyleModel",
            "_view_count": null,
            "_view_module": "@jupyter-widgets/base",
            "_view_module_version": "1.2.0",
            "_view_name": "StyleView",
            "bar_color": null,
            "description_width": ""
          }
        },
        "f2afad68e33c408aafaccd6784b2876f": {
          "model_module": "@jupyter-widgets/base",
          "model_name": "LayoutModel",
          "model_module_version": "1.2.0",
          "state": {
            "_model_module": "@jupyter-widgets/base",
            "_model_module_version": "1.2.0",
            "_model_name": "LayoutModel",
            "_view_count": null,
            "_view_module": "@jupyter-widgets/base",
            "_view_module_version": "1.2.0",
            "_view_name": "LayoutView",
            "align_content": null,
            "align_items": null,
            "align_self": null,
            "border": null,
            "bottom": null,
            "display": null,
            "flex": null,
            "flex_flow": null,
            "grid_area": null,
            "grid_auto_columns": null,
            "grid_auto_flow": null,
            "grid_auto_rows": null,
            "grid_column": null,
            "grid_gap": null,
            "grid_row": null,
            "grid_template_areas": null,
            "grid_template_columns": null,
            "grid_template_rows": null,
            "height": null,
            "justify_content": null,
            "justify_items": null,
            "left": null,
            "margin": null,
            "max_height": null,
            "max_width": null,
            "min_height": null,
            "min_width": null,
            "object_fit": null,
            "object_position": null,
            "order": null,
            "overflow": null,
            "overflow_x": null,
            "overflow_y": null,
            "padding": null,
            "right": null,
            "top": null,
            "visibility": null,
            "width": null
          }
        },
        "a3f93f043717432eac64f11f069754de": {
          "model_module": "@jupyter-widgets/controls",
          "model_name": "DescriptionStyleModel",
          "model_module_version": "1.5.0",
          "state": {
            "_model_module": "@jupyter-widgets/controls",
            "_model_module_version": "1.5.0",
            "_model_name": "DescriptionStyleModel",
            "_view_count": null,
            "_view_module": "@jupyter-widgets/base",
            "_view_module_version": "1.2.0",
            "_view_name": "StyleView",
            "description_width": ""
          }
        },
        "30ee7c0221c248b98fd12892eca48d40": {
          "model_module": "@jupyter-widgets/controls",
          "model_name": "HBoxModel",
          "model_module_version": "1.5.0",
          "state": {
            "_dom_classes": [],
            "_model_module": "@jupyter-widgets/controls",
            "_model_module_version": "1.5.0",
            "_model_name": "HBoxModel",
            "_view_count": null,
            "_view_module": "@jupyter-widgets/controls",
            "_view_module_version": "1.5.0",
            "_view_name": "HBoxView",
            "box_style": "",
            "children": [
              "IPY_MODEL_cc2f814467e6492f801f2ff99c28a3e4",
              "IPY_MODEL_7621d1f6f9af48d28e52f152e0028211",
              "IPY_MODEL_1a2114ceea954228a286a37df1b13da4"
            ],
            "layout": "IPY_MODEL_8f42c03194d44db196fac840a72136b7"
          }
        },
        "cc2f814467e6492f801f2ff99c28a3e4": {
          "model_module": "@jupyter-widgets/controls",
          "model_name": "HTMLModel",
          "model_module_version": "1.5.0",
          "state": {
            "_dom_classes": [],
            "_model_module": "@jupyter-widgets/controls",
            "_model_module_version": "1.5.0",
            "_model_name": "HTMLModel",
            "_view_count": null,
            "_view_module": "@jupyter-widgets/controls",
            "_view_module_version": "1.5.0",
            "_view_name": "HTMLView",
            "description": "",
            "description_tooltip": null,
            "layout": "IPY_MODEL_1d1af729ff224f65a509f4e4ea687b40",
            "placeholder": "​",
            "style": "IPY_MODEL_0dff37a57fdf4069b0fc2254b45812a8",
            "value": "Generating 1960 split: "
          }
        },
        "7621d1f6f9af48d28e52f152e0028211": {
          "model_module": "@jupyter-widgets/controls",
          "model_name": "FloatProgressModel",
          "model_module_version": "1.5.0",
          "state": {
            "_dom_classes": [],
            "_model_module": "@jupyter-widgets/controls",
            "_model_module_version": "1.5.0",
            "_model_name": "FloatProgressModel",
            "_view_count": null,
            "_view_module": "@jupyter-widgets/controls",
            "_view_module_version": "1.5.0",
            "_view_name": "ProgressView",
            "bar_style": "success",
            "description": "",
            "description_tooltip": null,
            "layout": "IPY_MODEL_67be472e48274fc785238993991068cf",
            "max": 1,
            "min": 0,
            "orientation": "horizontal",
            "style": "IPY_MODEL_af0a0629359e4cdb82d8a3976915e6af",
            "value": 1
          }
        },
        "1a2114ceea954228a286a37df1b13da4": {
          "model_module": "@jupyter-widgets/controls",
          "model_name": "HTMLModel",
          "model_module_version": "1.5.0",
          "state": {
            "_dom_classes": [],
            "_model_module": "@jupyter-widgets/controls",
            "_model_module_version": "1.5.0",
            "_model_name": "HTMLModel",
            "_view_count": null,
            "_view_module": "@jupyter-widgets/controls",
            "_view_module_version": "1.5.0",
            "_view_name": "HTMLView",
            "description": "",
            "description_tooltip": null,
            "layout": "IPY_MODEL_1c7a66ee642243f0b34de0f7e97b82dc",
            "placeholder": "​",
            "style": "IPY_MODEL_ded1f29d13c7465c9f37fc68d3266cee",
            "value": " 344550/0 [00:55&lt;00:00, 4244.99 examples/s]"
          }
        },
        "8f42c03194d44db196fac840a72136b7": {
          "model_module": "@jupyter-widgets/base",
          "model_name": "LayoutModel",
          "model_module_version": "1.2.0",
          "state": {
            "_model_module": "@jupyter-widgets/base",
            "_model_module_version": "1.2.0",
            "_model_name": "LayoutModel",
            "_view_count": null,
            "_view_module": "@jupyter-widgets/base",
            "_view_module_version": "1.2.0",
            "_view_name": "LayoutView",
            "align_content": null,
            "align_items": null,
            "align_self": null,
            "border": null,
            "bottom": null,
            "display": null,
            "flex": null,
            "flex_flow": null,
            "grid_area": null,
            "grid_auto_columns": null,
            "grid_auto_flow": null,
            "grid_auto_rows": null,
            "grid_column": null,
            "grid_gap": null,
            "grid_row": null,
            "grid_template_areas": null,
            "grid_template_columns": null,
            "grid_template_rows": null,
            "height": null,
            "justify_content": null,
            "justify_items": null,
            "left": null,
            "margin": null,
            "max_height": null,
            "max_width": null,
            "min_height": null,
            "min_width": null,
            "object_fit": null,
            "object_position": null,
            "order": null,
            "overflow": null,
            "overflow_x": null,
            "overflow_y": null,
            "padding": null,
            "right": null,
            "top": null,
            "visibility": null,
            "width": null
          }
        },
        "1d1af729ff224f65a509f4e4ea687b40": {
          "model_module": "@jupyter-widgets/base",
          "model_name": "LayoutModel",
          "model_module_version": "1.2.0",
          "state": {
            "_model_module": "@jupyter-widgets/base",
            "_model_module_version": "1.2.0",
            "_model_name": "LayoutModel",
            "_view_count": null,
            "_view_module": "@jupyter-widgets/base",
            "_view_module_version": "1.2.0",
            "_view_name": "LayoutView",
            "align_content": null,
            "align_items": null,
            "align_self": null,
            "border": null,
            "bottom": null,
            "display": null,
            "flex": null,
            "flex_flow": null,
            "grid_area": null,
            "grid_auto_columns": null,
            "grid_auto_flow": null,
            "grid_auto_rows": null,
            "grid_column": null,
            "grid_gap": null,
            "grid_row": null,
            "grid_template_areas": null,
            "grid_template_columns": null,
            "grid_template_rows": null,
            "height": null,
            "justify_content": null,
            "justify_items": null,
            "left": null,
            "margin": null,
            "max_height": null,
            "max_width": null,
            "min_height": null,
            "min_width": null,
            "object_fit": null,
            "object_position": null,
            "order": null,
            "overflow": null,
            "overflow_x": null,
            "overflow_y": null,
            "padding": null,
            "right": null,
            "top": null,
            "visibility": null,
            "width": null
          }
        },
        "0dff37a57fdf4069b0fc2254b45812a8": {
          "model_module": "@jupyter-widgets/controls",
          "model_name": "DescriptionStyleModel",
          "model_module_version": "1.5.0",
          "state": {
            "_model_module": "@jupyter-widgets/controls",
            "_model_module_version": "1.5.0",
            "_model_name": "DescriptionStyleModel",
            "_view_count": null,
            "_view_module": "@jupyter-widgets/base",
            "_view_module_version": "1.2.0",
            "_view_name": "StyleView",
            "description_width": ""
          }
        },
        "67be472e48274fc785238993991068cf": {
          "model_module": "@jupyter-widgets/base",
          "model_name": "LayoutModel",
          "model_module_version": "1.2.0",
          "state": {
            "_model_module": "@jupyter-widgets/base",
            "_model_module_version": "1.2.0",
            "_model_name": "LayoutModel",
            "_view_count": null,
            "_view_module": "@jupyter-widgets/base",
            "_view_module_version": "1.2.0",
            "_view_name": "LayoutView",
            "align_content": null,
            "align_items": null,
            "align_self": null,
            "border": null,
            "bottom": null,
            "display": null,
            "flex": null,
            "flex_flow": null,
            "grid_area": null,
            "grid_auto_columns": null,
            "grid_auto_flow": null,
            "grid_auto_rows": null,
            "grid_column": null,
            "grid_gap": null,
            "grid_row": null,
            "grid_template_areas": null,
            "grid_template_columns": null,
            "grid_template_rows": null,
            "height": null,
            "justify_content": null,
            "justify_items": null,
            "left": null,
            "margin": null,
            "max_height": null,
            "max_width": null,
            "min_height": null,
            "min_width": null,
            "object_fit": null,
            "object_position": null,
            "order": null,
            "overflow": null,
            "overflow_x": null,
            "overflow_y": null,
            "padding": null,
            "right": null,
            "top": null,
            "visibility": null,
            "width": "20px"
          }
        },
        "af0a0629359e4cdb82d8a3976915e6af": {
          "model_module": "@jupyter-widgets/controls",
          "model_name": "ProgressStyleModel",
          "model_module_version": "1.5.0",
          "state": {
            "_model_module": "@jupyter-widgets/controls",
            "_model_module_version": "1.5.0",
            "_model_name": "ProgressStyleModel",
            "_view_count": null,
            "_view_module": "@jupyter-widgets/base",
            "_view_module_version": "1.2.0",
            "_view_name": "StyleView",
            "bar_color": null,
            "description_width": ""
          }
        },
        "1c7a66ee642243f0b34de0f7e97b82dc": {
          "model_module": "@jupyter-widgets/base",
          "model_name": "LayoutModel",
          "model_module_version": "1.2.0",
          "state": {
            "_model_module": "@jupyter-widgets/base",
            "_model_module_version": "1.2.0",
            "_model_name": "LayoutModel",
            "_view_count": null,
            "_view_module": "@jupyter-widgets/base",
            "_view_module_version": "1.2.0",
            "_view_name": "LayoutView",
            "align_content": null,
            "align_items": null,
            "align_self": null,
            "border": null,
            "bottom": null,
            "display": null,
            "flex": null,
            "flex_flow": null,
            "grid_area": null,
            "grid_auto_columns": null,
            "grid_auto_flow": null,
            "grid_auto_rows": null,
            "grid_column": null,
            "grid_gap": null,
            "grid_row": null,
            "grid_template_areas": null,
            "grid_template_columns": null,
            "grid_template_rows": null,
            "height": null,
            "justify_content": null,
            "justify_items": null,
            "left": null,
            "margin": null,
            "max_height": null,
            "max_width": null,
            "min_height": null,
            "min_width": null,
            "object_fit": null,
            "object_position": null,
            "order": null,
            "overflow": null,
            "overflow_x": null,
            "overflow_y": null,
            "padding": null,
            "right": null,
            "top": null,
            "visibility": null,
            "width": null
          }
        },
        "ded1f29d13c7465c9f37fc68d3266cee": {
          "model_module": "@jupyter-widgets/controls",
          "model_name": "DescriptionStyleModel",
          "model_module_version": "1.5.0",
          "state": {
            "_model_module": "@jupyter-widgets/controls",
            "_model_module_version": "1.5.0",
            "_model_name": "DescriptionStyleModel",
            "_view_count": null,
            "_view_module": "@jupyter-widgets/base",
            "_view_module_version": "1.2.0",
            "_view_name": "StyleView",
            "description_width": ""
          }
        }
      }
    }
  },
  "nbformat": 4,
  "nbformat_minor": 5
}
